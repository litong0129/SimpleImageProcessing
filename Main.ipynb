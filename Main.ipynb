{
 "cells": [
  {
   "cell_type": "markdown",
   "metadata": {},
   "source": [
    "# Simple Convolution Image Processing"
   ]
  },
  {
   "cell_type": "code",
   "execution_count": 53,
   "metadata": {},
   "outputs": [],
   "source": [
    "import PIL\n",
    "from PIL import Image\n",
    "import numpy as np"
   ]
  },
  {
   "cell_type": "markdown",
   "metadata": {},
   "source": [
    "Import the image and turn it into greyscale"
   ]
  },
  {
   "cell_type": "code",
   "execution_count": 54,
   "metadata": {},
   "outputs": [],
   "source": [
    "input = Image.open('input.jpeg')\n",
    "greyscale = input.convert('L')\n",
    "pixels = np.array(greyscale)"
   ]
  },
  {
   "cell_type": "markdown",
   "metadata": {},
   "source": [
    "Initialize filter"
   ]
  },
  {
   "cell_type": "code",
   "execution_count": 55,
   "metadata": {},
   "outputs": [],
   "source": [
    "#Edge Detection filter\n",
    "filterSize = 3\n",
    "filter = np.full((filterSize,filterSize),-1, dtype = float)\n",
    "filter[1,1]=10"
   ]
  },
  {
   "cell_type": "markdown",
   "metadata": {},
   "source": [
    "Add paddings to the image so that the size of the image stays the same after the filter is applied"
   ]
  },
  {
   "cell_type": "code",
   "execution_count": 56,
   "metadata": {},
   "outputs": [],
   "source": [
    "rows = np.shape(pixels)[0]+2*(filterSize-1)\n",
    "columns = np.shape(pixels)[1]+2*(filterSize-1)\n",
    "padded = np.zeros((rows,columns),dtype = float)\n",
    "#print(np.shape(padded))\n",
    "\n",
    "x = filterSize - 1\n",
    "y = filterSize - 1\n",
    "padded[x:x+pixels.shape[0],y:y+pixels.shape[1]]= pixels"
   ]
  },
  {
   "cell_type": "markdown",
   "metadata": {},
   "source": [
    "Apply the filter to the image"
   ]
  },
  {
   "cell_type": "code",
   "execution_count": 57,
   "metadata": {},
   "outputs": [],
   "source": [
    "a = filterSize\n",
    "b = filterSize\n",
    "part = padded[:a,:b]\n",
    "output = []\n",
    "for y in range(0, np.shape(padded)[0]-filterSize +1):\n",
    "    part = padded[y:a+y,:b]\n",
    "    for x in range(0, np.shape(padded)[1]-filterSize+1):\n",
    "        part = padded[y:a+y, x:x+b]\n",
    "        dot = np.sum(np.multiply(part, filter))\n",
    "        output.append(dot)\n",
    "#print(len(output))\n",
    "output = np.reshape(np.asarray(output),(np.shape(padded)[0]-filterSize+1,np.shape(padded)[1]-filterSize+1))\n",
    "#print(output)\n",
    "im = Image.fromarray(output)\n",
    "im.show()"
   ]
  },
  {
   "cell_type": "code",
   "execution_count": null,
   "metadata": {},
   "outputs": [],
   "source": []
  }
 ],
 "metadata": {
  "kernelspec": {
   "display_name": "Python 3",
   "language": "python",
   "name": "python3"
  },
  "language_info": {
   "codemirror_mode": {
    "name": "ipython",
    "version": 3
   },
   "file_extension": ".py",
   "mimetype": "text/x-python",
   "name": "python",
   "nbconvert_exporter": "python",
   "pygments_lexer": "ipython3",
   "version": "3.6.5"
  }
 },
 "nbformat": 4,
 "nbformat_minor": 2
}
